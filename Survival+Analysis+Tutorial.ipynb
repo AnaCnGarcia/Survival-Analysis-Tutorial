{
 "cells": [
  {
   "cell_type": "markdown",
   "metadata": {},
   "source": [
    "# Survival analysis tutorial =D"
   ]
  },
  {
   "cell_type": "markdown",
   "metadata": {},
   "source": [
    "Welcome to the survival analysis tutorial!\n",
    "\n",
    "Once again, this is my learning journal for survival analysis.\n",
    "\n",
    "I used a lot from the official Lifelines documentation (please refer to https://lifelines.readthedocs.io/en/latest/Survival%20Analysis%20intro.html), including the same examples.\n",
    "\n",
    "The only thing I did was maybe writing down in a little more non-technical way.\n",
    "\n",
    "Hope you have fun =D"
   ]
  },
  {
   "cell_type": "markdown",
   "metadata": {},
   "source": [
    "# Basic First and Foremost STUFF in Python"
   ]
  },
  {
   "cell_type": "markdown",
   "metadata": {},
   "source": [
    "First, let me just tell python to publish everything in here and not in separate windows!"
   ]
  },
  {
   "cell_type": "code",
   "execution_count": 47,
   "metadata": {
    "collapsed": true
   },
   "outputs": [],
   "source": [
    "%matplotlib inline"
   ]
  },
  {
   "cell_type": "markdown",
   "metadata": {},
   "source": [
    "And let me just import the basic stuff"
   ]
  },
  {
   "cell_type": "code",
   "execution_count": 48,
   "metadata": {
    "collapsed": true
   },
   "outputs": [],
   "source": [
    "import pandas as pd\n",
    "import numpy as np\n",
    "import matplotlib as m"
   ]
  },
  {
   "cell_type": "markdown",
   "metadata": {},
   "source": [
    "# Installing the library and importing the data"
   ]
  },
  {
   "cell_type": "code",
   "execution_count": 1,
   "metadata": {
    "collapsed": false
   },
   "outputs": [
    {
     "name": "stdout",
     "output_type": "stream",
     "text": [
      "Collecting lifelines\n",
      "  Downloading https://archive.uber.com/pypi/packages/b2/8f/dbc3a1f7636cb8ea5dc2ad2c287ce95ac16e492da503d143dab1f9948f80/lifelines-0.9.4.tar.gz (439kB)\n",
      "\u001b[K    100% |████████████████████████████████| 440kB 1.3MB/s ta 0:00:01\n",
      "\u001b[?25hRequirement already satisfied: numpy in /anaconda/lib/python3.6/site-packages (from lifelines)\n",
      "Requirement already satisfied: scipy in /anaconda/lib/python3.6/site-packages (from lifelines)\n",
      "Requirement already satisfied: pandas>=0.18 in /anaconda/lib/python3.6/site-packages (from lifelines)\n",
      "Requirement already satisfied: python-dateutil>=2 in /anaconda/lib/python3.6/site-packages (from pandas>=0.18->lifelines)\n",
      "Requirement already satisfied: pytz>=2011k in /anaconda/lib/python3.6/site-packages (from pandas>=0.18->lifelines)\n",
      "Requirement already satisfied: six>=1.5 in /anaconda/lib/python3.6/site-packages (from python-dateutil>=2->pandas>=0.18->lifelines)\n",
      "Building wheels for collected packages: lifelines\n",
      "  Running setup.py bdist_wheel for lifelines ... \u001b[?25l-\b \b\\\b \bdone\n",
      "\u001b[?25h  Stored in directory: /Users/anagarcia/Library/Caches/pip/wheels/16/51/00/0811c3f15a8d62e5dcacc64f85361cce51c67a94f61ad07b68\n",
      "Successfully built lifelines\n",
      "Installing collected packages: lifelines\n",
      "Successfully installed lifelines-0.9.4\n"
     ]
    }
   ],
   "source": [
    "!pip install lifelines #remember, this is STEP 1 if you do not have the package!"
   ]
  },
  {
   "cell_type": "markdown",
   "metadata": {},
   "source": [
    "Now, let's import from sample data!"
   ]
  },
  {
   "cell_type": "code",
   "execution_count": 7,
   "metadata": {
    "collapsed": false
   },
   "outputs": [
    {
     "data": {
      "text/html": [
       "<div>\n",
       "<table border=\"1\" class=\"dataframe\">\n",
       "  <thead>\n",
       "    <tr style=\"text-align: right;\">\n",
       "      <th></th>\n",
       "      <th>T</th>\n",
       "      <th>E</th>\n",
       "      <th>group</th>\n",
       "    </tr>\n",
       "  </thead>\n",
       "  <tbody>\n",
       "    <tr>\n",
       "      <th>0</th>\n",
       "      <td>6.0</td>\n",
       "      <td>1</td>\n",
       "      <td>miR-137</td>\n",
       "    </tr>\n",
       "    <tr>\n",
       "      <th>1</th>\n",
       "      <td>13.0</td>\n",
       "      <td>1</td>\n",
       "      <td>miR-137</td>\n",
       "    </tr>\n",
       "    <tr>\n",
       "      <th>2</th>\n",
       "      <td>13.0</td>\n",
       "      <td>1</td>\n",
       "      <td>miR-137</td>\n",
       "    </tr>\n",
       "    <tr>\n",
       "      <th>3</th>\n",
       "      <td>13.0</td>\n",
       "      <td>1</td>\n",
       "      <td>miR-137</td>\n",
       "    </tr>\n",
       "    <tr>\n",
       "      <th>4</th>\n",
       "      <td>19.0</td>\n",
       "      <td>1</td>\n",
       "      <td>miR-137</td>\n",
       "    </tr>\n",
       "  </tbody>\n",
       "</table>\n",
       "</div>"
      ],
      "text/plain": [
       "      T  E    group\n",
       "0   6.0  1  miR-137\n",
       "1  13.0  1  miR-137\n",
       "2  13.0  1  miR-137\n",
       "3  13.0  1  miR-137\n",
       "4  19.0  1  miR-137"
      ]
     },
     "execution_count": 7,
     "metadata": {},
     "output_type": "execute_result"
    }
   ],
   "source": [
    "from lifelines.datasets import load_waltons\n",
    "df = load_waltons()\n",
    "df.head(5)"
   ]
  },
  {
   "cell_type": "markdown",
   "metadata": {},
   "source": [
    "In this data, we have three columns: T is the time since patient was born. E is a dummy variable that indicates\n",
    "if the patient is dead (1) or not (0). Group is a variable that identifies two different groups.\n",
    "\n",
    "Important! In your real-world analysis, you can use whatever time unit you like, as long as it is the same throught the whole period =D"
   ]
  },
  {
   "cell_type": "markdown",
   "metadata": {},
   "source": [
    "# Implanting the Kaplan Meier Method - just one group"
   ]
  },
  {
   "cell_type": "markdown",
   "metadata": {},
   "source": [
    "First, let's import from lifelines the KaplanMeierFitter"
   ]
  },
  {
   "cell_type": "code",
   "execution_count": 11,
   "metadata": {
    "collapsed": false
   },
   "outputs": [],
   "source": [
    "from lifelines import KaplanMeierFitter"
   ]
  },
  {
   "cell_type": "markdown",
   "metadata": {},
   "source": [
    "Python is not as beautiful as R, remember? Well, we will have to separate the columns that indicate the time\n",
    "the patient has lived and the dummy variable saying if he died or not in two data frames.\n",
    "Those will be the parameters for the analysis. Once we do that, we can fit the survival method!\n",
    "\n",
    "Let's?"
   ]
  },
  {
   "cell_type": "code",
   "execution_count": 34,
   "metadata": {
    "collapsed": false
   },
   "outputs": [
    {
     "data": {
      "text/plain": [
       "<lifelines.KaplanMeierFitter: fitted with 163 observations, 7 censored>"
      ]
     },
     "execution_count": 34,
     "metadata": {},
     "output_type": "execute_result"
    }
   ],
   "source": [
    "T = df[\"T\"]\n",
    "E = df[\"E\"]\n",
    "\n",
    "kmf = KaplanMeierFitter()\n",
    "kmf.fit(T, event_observed=E) #important! by default, KaplanMeierFitter assumes that everyone has died, \n",
    "#if you do not put the event observed parameter."
   ]
  },
  {
   "cell_type": "markdown",
   "metadata": {},
   "source": [
    "Ok! Now, let's plot the survival curve!"
   ]
  },
  {
   "cell_type": "code",
   "execution_count": 46,
   "metadata": {
    "collapsed": false
   },
   "outputs": [
    {
     "data": {
      "text/plain": [
       "<matplotlib.axes._subplots.AxesSubplot at 0x11369bd30>"
      ]
     },
     "execution_count": 46,
     "metadata": {},
     "output_type": "execute_result"
    },
    {
     "data": {
      "image/png": "[encoded data removed]",
      "text/plain": [
       "<matplotlib.figure.Figure at 0x113729ba8>"
      ]
     },
     "metadata": {},
     "output_type": "display_data"
    }
   ],
   "source": [
    "kmf.survival_function_.plot()\n",
    "\n",
    "#fit.title('Survival function of political regimes');"
   ]
  },
  {
   "cell_type": "markdown",
   "metadata": {},
   "source": [
    "If we want to see the confidence intervals, we can just change the function"
   ]
  },
  {
   "cell_type": "code",
   "execution_count": 36,
   "metadata": {
    "collapsed": false
   },
   "outputs": [
    {
     "data": {
      "text/plain": [
       "<matplotlib.axes._subplots.AxesSubplot at 0x10f43cba8>"
      ]
     },
     "execution_count": 36,
     "metadata": {},
     "output_type": "execute_result"
    },
    {
     "data": {
      "image/png": "[encoded data removed]",
      "text/plain": [
       "<matplotlib.figure.Figure at 0x1130dfb70>"
      ]
     },
     "metadata": {},
     "output_type": "display_data"
    }
   ],
   "source": [
    "kmf.plot()"
   ]
  },
  {
   "cell_type": "markdown",
   "metadata": {},
   "source": [
    "There is a property that defines what is the time when half of the population has expired!"
   ]
  },
  {
   "cell_type": "code",
   "execution_count": 37,
   "metadata": {
    "collapsed": false
   },
   "outputs": [
    {
     "data": {
      "text/plain": [
       "56.0"
      ]
     },
     "execution_count": 37,
     "metadata": {},
     "output_type": "execute_result"
    }
   ],
   "source": [
    "kmf.median_"
   ]
  },
  {
   "cell_type": "markdown",
   "metadata": {},
   "source": [
    "# Implanting the Kaplan Meier Method - two groups"
   ]
  },
  {
   "cell_type": "markdown",
   "metadata": {},
   "source": [
    "One thing that is beautiful and interesting in the Survival Analysis is to compare how one group's curve compares\n",
    "to other group's curve.\n",
    "\n",
    "It's not that difficult to implement that on Python!"
   ]
  },
  {
   "cell_type": "code",
   "execution_count": 38,
   "metadata": {
    "collapsed": false
   },
   "outputs": [
    {
     "data": {
      "text/plain": [
       "<matplotlib.axes._subplots.AxesSubplot at 0x1135cbb00>"
      ]
     },
     "execution_count": 38,
     "metadata": {},
     "output_type": "execute_result"
    },
    {
     "data": {
      "image/png": "[encoded data removed]",
      "text/plain": [
       "<matplotlib.figure.Figure at 0x113b03438>"
      ]
     },
     "metadata": {},
     "output_type": "display_data"
    }
   ],
   "source": [
    "#Step 1 - lets separate the groups in our dataset\n",
    "\n",
    "groups = df['group']\n",
    "ix = (groups == 'miR-137')\n",
    "\n",
    "#Step 2 - fit the curves\n",
    "kmf.fit(T[~ix], E[~ix], label='control') #look! this is just the data.frame T we created - de ix part \n",
    "ax = kmf.plot()\n",
    "\n",
    "kmf.fit(T[ix], E[ix], label='miR-137')\n",
    "kmf.plot(ax=ax)\n"
   ]
  },
  {
   "cell_type": "markdown",
   "metadata": {},
   "source": [
    "Ok, but now let's say you don't want to see the results just graphically? What if you want a table? So there you go:"
   ]
  },
  {
   "cell_type": "code",
   "execution_count": 44,
   "metadata": {
    "collapsed": false
   },
   "outputs": [
    {
     "name": "stdout",
     "output_type": "stream",
     "text": [
      "           miR-137\n",
      "timeline          \n",
      "0.0       1.000000\n",
      "6.0       0.970588\n",
      "9.0       0.882353\n",
      "13.0      0.794118\n",
      "15.0      0.735294\n",
      "19.0      0.647059\n",
      "22.0      0.529412\n",
      "26.0      0.382353\n",
      "29.0      0.235294\n",
      "33.0      0.176471\n",
      "36.0      0.117647\n",
      "43.0      0.088235\n",
      "47.0      0.058824\n",
      "62.0      0.000000\n"
     ]
    }
   ],
   "source": [
    "print (kmf.survival_function_)"
   ]
  },
  {
   "cell_type": "markdown",
   "metadata": {},
   "source": [
    "# Implanting the Nelson-Aalen Method"
   ]
  },
  {
   "cell_type": "markdown",
   "metadata": {},
   "source": [
    "This is a useful method if we want to estimate the hazard function (it is like the opposite of the survival function). You can not do this using the Kaplan-Meier because of Statistics reasons, so we have to change the method."
   ]
  },
  {
   "cell_type": "code",
   "execution_count": 49,
   "metadata": {
    "collapsed": false
   },
   "outputs": [
    {
     "data": {
      "text/plain": [
       "<lifelines.NelsonAalenFitter: fitted with 163 observations, 7 censored>"
      ]
     },
     "execution_count": 49,
     "metadata": {},
     "output_type": "execute_result"
    }
   ],
   "source": [
    "from lifelines import NelsonAalenFitter\n",
    "naf = NelsonAalenFitter()\n",
    "naf.fit(T,event_observed=E)"
   ]
  },
  {
   "cell_type": "markdown",
   "metadata": {},
   "source": [
    "Ok, now we can plot the hazard curve.\n"
   ]
  },
  {
   "cell_type": "code",
   "execution_count": 50,
   "metadata": {
    "collapsed": false
   },
   "outputs": [
    {
     "data": {
      "text/plain": [
       "<matplotlib.axes._subplots.AxesSubplot at 0x113b0fb70>"
      ]
     },
     "execution_count": 50,
     "metadata": {},
     "output_type": "execute_result"
    },
    {
     "data": {
      "image/png": "[encoded data removed]",
      "text/plain": [
       "<matplotlib.figure.Figure at 0x113cac358>"
      ]
     },
     "metadata": {},
     "output_type": "display_data"
    }
   ],
   "source": [
    "naf.plot() #Let's make the survival plot before"
   ]
  },
  {
   "cell_type": "markdown",
   "metadata": {},
   "source": [
    "What is that? Well, it is very complicated to understand the maths behind it, but what it basically is showing is how fast (accordingly to the steepness of the curve) the individuals die! We can transform this in the percentage curve we saw before but it involves a smoothness method and us to specify a interval of the graph. Let's see how it is done!"
   ]
  },
  {
   "cell_type": "code",
   "execution_count": 57,
   "metadata": {
    "collapsed": false
   },
   "outputs": [
    {
     "data": {
      "text/plain": [
       "<matplotlib.axes._subplots.AxesSubplot at 0x114549550>"
      ]
     },
     "execution_count": 57,
     "metadata": {},
     "output_type": "execute_result"
    },
    {
     "data": {
      "image/png": "[encoded data removed]",
      "text/plain": [
       "<matplotlib.figure.Figure at 0x1142842e8>"
      ]
     },
     "metadata": {},
     "output_type": "display_data"
    }
   ],
   "source": [
    "b = 3. #this argument is necessary. It represents the bandwidth\n",
    "naf.fit(T[~ix], E[~ix], label='control')\n",
    "ax = naf.plot_hazard(bandwidth=b)\n",
    "naf.fit(T[ix], E[ix], label='miR-137')\n",
    "naf.plot_hazard(ax=ax, bandwidth=b)"
   ]
  },
  {
   "cell_type": "markdown",
   "metadata": {},
   "source": [
    "Ok, apparently the bandwidth we chose makes a huuuge difference, so, honestly, just stick to the hazard function (words of the Lifelines project =oOOOO)"
   ]
  },
  {
   "cell_type": "code",
   "execution_count": 58,
   "metadata": {
    "collapsed": false
   },
   "outputs": [
    {
     "data": {
      "text/plain": [
       "<matplotlib.axes._subplots.AxesSubplot at 0x11451a668>"
      ]
     },
     "execution_count": 58,
     "metadata": {},
     "output_type": "execute_result"
    },
    {
     "data": {
      "image/png": "[encoded data removed]",
      "text/plain": [
       "<matplotlib.figure.Figure at 0x11474b278>"
      ]
     },
     "metadata": {},
     "output_type": "display_data"
    }
   ],
   "source": [
    "b = 8. #this argument is necessary. It represents the bandwidth\n",
    "naf.fit(T[~ix], E[~ix], label='control')\n",
    "ax = naf.plot_hazard(bandwidth=b)\n",
    "naf.fit(T[ix], E[ix], label='miR-137')\n",
    "naf.plot_hazard(ax=ax, bandwidth=b)"
   ]
  },
  {
   "cell_type": "markdown",
   "metadata": {},
   "source": [
    "# Survival regression"
   ]
  },
  {
   "cell_type": "markdown",
   "metadata": {},
   "source": [
    "One thing that made me fall in love for survival analysis was its simplicity, in spite of being very complicated behind. We are simply interested in getting survival rates of the population based on the times different individuals survived.\n",
    "\n",
    "But, what if we have a bunch of other variables about those individuals and we want to put this into the model?\n",
    "\n",
    "That is where survival regression goes into.\n",
    "\n",
    "We have two ways of estimating this regression:\n",
    "\n",
    "Cox's exponential model : λ(t)=b0(t)exp(b1x1+...+bNxn)\n",
    "\n",
    "Aalen's additive model : λ(t)=b0(t)+b1(t)x1+...+bN(t)xT.\n",
    "\n",
    "Let's see how we estimate those"
   ]
  },
  {
   "cell_type": "code",
   "execution_count": 59,
   "metadata": {
    "collapsed": true
   },
   "outputs": [],
   "source": [
    "from lifelines import AalenAdditiveFitter"
   ]
  },
  {
   "cell_type": "markdown",
   "metadata": {},
   "source": [
    "Let's use a dataset that has more information about the individuals. This is a dataset of different political regimes."
   ]
  },
  {
   "cell_type": "code",
   "execution_count": 62,
   "metadata": {
    "collapsed": false
   },
   "outputs": [
    {
     "data": {
      "text/html": [
       "<div>\n",
       "<table border=\"1\" class=\"dataframe\">\n",
       "  <thead>\n",
       "    <tr style=\"text-align: right;\">\n",
       "      <th></th>\n",
       "      <th>ctryname</th>\n",
       "      <th>cowcode2</th>\n",
       "      <th>politycode</th>\n",
       "      <th>un_region_name</th>\n",
       "      <th>un_continent_name</th>\n",
       "      <th>ehead</th>\n",
       "      <th>leaderspellreg</th>\n",
       "      <th>democracy</th>\n",
       "      <th>regime</th>\n",
       "      <th>start_year</th>\n",
       "      <th>duration</th>\n",
       "      <th>observed</th>\n",
       "    </tr>\n",
       "  </thead>\n",
       "  <tbody>\n",
       "    <tr>\n",
       "      <th>0</th>\n",
       "      <td>Afghanistan</td>\n",
       "      <td>700</td>\n",
       "      <td>700.0</td>\n",
       "      <td>Southern Asia</td>\n",
       "      <td>Asia</td>\n",
       "      <td>Mohammad Zahir Shah</td>\n",
       "      <td>Mohammad Zahir Shah.Afghanistan.1946.1952.Mona...</td>\n",
       "      <td>Non-democracy</td>\n",
       "      <td>Monarchy</td>\n",
       "      <td>1946</td>\n",
       "      <td>7</td>\n",
       "      <td>1</td>\n",
       "    </tr>\n",
       "    <tr>\n",
       "      <th>1</th>\n",
       "      <td>Afghanistan</td>\n",
       "      <td>700</td>\n",
       "      <td>700.0</td>\n",
       "      <td>Southern Asia</td>\n",
       "      <td>Asia</td>\n",
       "      <td>Sardar Mohammad Daoud</td>\n",
       "      <td>Sardar Mohammad Daoud.Afghanistan.1953.1962.Ci...</td>\n",
       "      <td>Non-democracy</td>\n",
       "      <td>Civilian Dict</td>\n",
       "      <td>1953</td>\n",
       "      <td>10</td>\n",
       "      <td>1</td>\n",
       "    </tr>\n",
       "    <tr>\n",
       "      <th>2</th>\n",
       "      <td>Afghanistan</td>\n",
       "      <td>700</td>\n",
       "      <td>700.0</td>\n",
       "      <td>Southern Asia</td>\n",
       "      <td>Asia</td>\n",
       "      <td>Mohammad Zahir Shah</td>\n",
       "      <td>Mohammad Zahir Shah.Afghanistan.1963.1972.Mona...</td>\n",
       "      <td>Non-democracy</td>\n",
       "      <td>Monarchy</td>\n",
       "      <td>1963</td>\n",
       "      <td>10</td>\n",
       "      <td>1</td>\n",
       "    </tr>\n",
       "    <tr>\n",
       "      <th>3</th>\n",
       "      <td>Afghanistan</td>\n",
       "      <td>700</td>\n",
       "      <td>700.0</td>\n",
       "      <td>Southern Asia</td>\n",
       "      <td>Asia</td>\n",
       "      <td>Sardar Mohammad Daoud</td>\n",
       "      <td>Sardar Mohammad Daoud.Afghanistan.1973.1977.Ci...</td>\n",
       "      <td>Non-democracy</td>\n",
       "      <td>Civilian Dict</td>\n",
       "      <td>1973</td>\n",
       "      <td>5</td>\n",
       "      <td>0</td>\n",
       "    </tr>\n",
       "    <tr>\n",
       "      <th>4</th>\n",
       "      <td>Afghanistan</td>\n",
       "      <td>700</td>\n",
       "      <td>700.0</td>\n",
       "      <td>Southern Asia</td>\n",
       "      <td>Asia</td>\n",
       "      <td>Nur Mohammad Taraki</td>\n",
       "      <td>Nur Mohammad Taraki.Afghanistan.1978.1978.Civi...</td>\n",
       "      <td>Non-democracy</td>\n",
       "      <td>Civilian Dict</td>\n",
       "      <td>1978</td>\n",
       "      <td>1</td>\n",
       "      <td>0</td>\n",
       "    </tr>\n",
       "  </tbody>\n",
       "</table>\n",
       "</div>"
      ],
      "text/plain": [
       "      ctryname  cowcode2  politycode un_region_name un_continent_name  \\\n",
       "0  Afghanistan       700       700.0  Southern Asia              Asia   \n",
       "1  Afghanistan       700       700.0  Southern Asia              Asia   \n",
       "2  Afghanistan       700       700.0  Southern Asia              Asia   \n",
       "3  Afghanistan       700       700.0  Southern Asia              Asia   \n",
       "4  Afghanistan       700       700.0  Southern Asia              Asia   \n",
       "\n",
       "                   ehead                                     leaderspellreg  \\\n",
       "0    Mohammad Zahir Shah  Mohammad Zahir Shah.Afghanistan.1946.1952.Mona...   \n",
       "1  Sardar Mohammad Daoud  Sardar Mohammad Daoud.Afghanistan.1953.1962.Ci...   \n",
       "2    Mohammad Zahir Shah  Mohammad Zahir Shah.Afghanistan.1963.1972.Mona...   \n",
       "3  Sardar Mohammad Daoud  Sardar Mohammad Daoud.Afghanistan.1973.1977.Ci...   \n",
       "4    Nur Mohammad Taraki  Nur Mohammad Taraki.Afghanistan.1978.1978.Civi...   \n",
       "\n",
       "       democracy         regime  start_year  duration  observed  \n",
       "0  Non-democracy       Monarchy        1946         7         1  \n",
       "1  Non-democracy  Civilian Dict        1953        10         1  \n",
       "2  Non-democracy       Monarchy        1963        10         1  \n",
       "3  Non-democracy  Civilian Dict        1973         5         0  \n",
       "4  Non-democracy  Civilian Dict        1978         1         0  "
      ]
     },
     "execution_count": 62,
     "metadata": {},
     "output_type": "execute_result"
    }
   ],
   "source": [
    "import pandas as pd\n",
    "import lifelines\n",
    "\n",
    "data = lifelines.datasets.load_dd()\n",
    "data.head(5)"
   ]
  },
  {
   "cell_type": "markdown",
   "metadata": {},
   "source": [
    "In order to run the regression, we have to create a covariance matrix of the variables!"
   ]
  },
  {
   "cell_type": "code",
   "execution_count": 63,
   "metadata": {
    "collapsed": true
   },
   "outputs": [],
   "source": [
    "import patsy\n",
    "# the '-1' term\n",
    "# refers to not adding an intercept column (a column of all 1s).\n",
    "# It can be added to the Fitter class.\n",
    "X = patsy.dmatrix('un_continent_name + regime + start_year -1', data, return_type='dataframe')"
   ]
  },
  {
   "cell_type": "markdown",
   "metadata": {},
   "source": [
    "Now, let's create the model."
   ]
  },
  {
   "cell_type": "code",
   "execution_count": 65,
   "metadata": {
    "collapsed": false
   },
   "outputs": [
    {
     "name": "stdout",
     "output_type": "stream",
     "text": [
      " [-----------------100%-----------------] 1468 of 1468 complete in 0.7 sec\n"
     ]
    },
    {
     "data": {
      "text/plain": [
       "<lifelines.AalenAdditiveFitter: fitted with 1808 observations, 340 censored>"
      ]
     },
     "execution_count": 65,
     "metadata": {},
     "output_type": "execute_result"
    }
   ],
   "source": [
    "aaf = AalenAdditiveFitter(coef_penalizer=1.0, fit_intercept=True)\n",
    "X['T'] = data['duration']\n",
    "X['E'] = data['observed']\n",
    "aaf.fit(X, 'T', event_col='E')"
   ]
  },
  {
   "cell_type": "markdown",
   "metadata": {},
   "source": [
    "What it does now is that it displays the cummulative hazard function per the different regimes"
   ]
  },
  {
   "cell_type": "code",
   "execution_count": 66,
   "metadata": {
    "collapsed": false
   },
   "outputs": [
    {
     "data": {
      "text/html": [
       "<div>\n",
       "<table border=\"1\" class=\"dataframe\">\n",
       "  <thead>\n",
       "    <tr style=\"text-align: right;\">\n",
       "      <th></th>\n",
       "      <th>un_continent_name[Africa]</th>\n",
       "      <th>un_continent_name[Americas]</th>\n",
       "      <th>un_continent_name[Asia]</th>\n",
       "      <th>un_continent_name[Europe]</th>\n",
       "      <th>un_continent_name[Oceania]</th>\n",
       "      <th>regime[T.Military Dict]</th>\n",
       "      <th>regime[T.Mixed Dem]</th>\n",
       "      <th>regime[T.Monarchy]</th>\n",
       "      <th>regime[T.Parliamentary Dem]</th>\n",
       "      <th>regime[T.Presidential Dem]</th>\n",
       "      <th>start_year</th>\n",
       "      <th>baseline</th>\n",
       "    </tr>\n",
       "  </thead>\n",
       "  <tbody>\n",
       "    <tr>\n",
       "      <th>1</th>\n",
       "      <td>-0.051595</td>\n",
       "      <td>-0.082406</td>\n",
       "      <td>0.010666</td>\n",
       "      <td>0.154493</td>\n",
       "      <td>-0.060438</td>\n",
       "      <td>0.075333</td>\n",
       "      <td>0.086274</td>\n",
       "      <td>-0.133938</td>\n",
       "      <td>0.048077</td>\n",
       "      <td>0.127171</td>\n",
       "      <td>0.000116</td>\n",
       "      <td>-0.029280</td>\n",
       "    </tr>\n",
       "    <tr>\n",
       "      <th>2</th>\n",
       "      <td>-0.014713</td>\n",
       "      <td>-0.039471</td>\n",
       "      <td>0.095668</td>\n",
       "      <td>0.194251</td>\n",
       "      <td>-0.092696</td>\n",
       "      <td>0.115033</td>\n",
       "      <td>0.358702</td>\n",
       "      <td>-0.226233</td>\n",
       "      <td>0.168783</td>\n",
       "      <td>0.121862</td>\n",
       "      <td>0.000053</td>\n",
       "      <td>0.143039</td>\n",
       "    </tr>\n",
       "    <tr>\n",
       "      <th>3</th>\n",
       "      <td>0.007389</td>\n",
       "      <td>-0.064758</td>\n",
       "      <td>0.115121</td>\n",
       "      <td>0.170549</td>\n",
       "      <td>0.069371</td>\n",
       "      <td>0.161490</td>\n",
       "      <td>0.677347</td>\n",
       "      <td>-0.271183</td>\n",
       "      <td>0.328483</td>\n",
       "      <td>0.146234</td>\n",
       "      <td>0.000004</td>\n",
       "      <td>0.297672</td>\n",
       "    </tr>\n",
       "    <tr>\n",
       "      <th>4</th>\n",
       "      <td>-0.058418</td>\n",
       "      <td>0.011399</td>\n",
       "      <td>0.091784</td>\n",
       "      <td>0.205824</td>\n",
       "      <td>0.125722</td>\n",
       "      <td>0.220028</td>\n",
       "      <td>0.932674</td>\n",
       "      <td>-0.294900</td>\n",
       "      <td>0.365604</td>\n",
       "      <td>0.422617</td>\n",
       "      <td>0.000002</td>\n",
       "      <td>0.376311</td>\n",
       "    </tr>\n",
       "    <tr>\n",
       "      <th>5</th>\n",
       "      <td>-0.099282</td>\n",
       "      <td>0.106641</td>\n",
       "      <td>0.112083</td>\n",
       "      <td>0.150708</td>\n",
       "      <td>0.091900</td>\n",
       "      <td>0.241575</td>\n",
       "      <td>1.123860</td>\n",
       "      <td>-0.391103</td>\n",
       "      <td>0.536185</td>\n",
       "      <td>0.743913</td>\n",
       "      <td>0.000057</td>\n",
       "      <td>0.362049</td>\n",
       "    </tr>\n",
       "  </tbody>\n",
       "</table>\n",
       "</div>"
      ],
      "text/plain": [
       "   un_continent_name[Africa]  un_continent_name[Americas]  \\\n",
       "1                  -0.051595                    -0.082406   \n",
       "2                  -0.014713                    -0.039471   \n",
       "3                   0.007389                    -0.064758   \n",
       "4                  -0.058418                     0.011399   \n",
       "5                  -0.099282                     0.106641   \n",
       "\n",
       "   un_continent_name[Asia]  un_continent_name[Europe]  \\\n",
       "1                 0.010666                   0.154493   \n",
       "2                 0.095668                   0.194251   \n",
       "3                 0.115121                   0.170549   \n",
       "4                 0.091784                   0.205824   \n",
       "5                 0.112083                   0.150708   \n",
       "\n",
       "   un_continent_name[Oceania]  regime[T.Military Dict]  regime[T.Mixed Dem]  \\\n",
       "1                   -0.060438                 0.075333             0.086274   \n",
       "2                   -0.092696                 0.115033             0.358702   \n",
       "3                    0.069371                 0.161490             0.677347   \n",
       "4                    0.125722                 0.220028             0.932674   \n",
       "5                    0.091900                 0.241575             1.123860   \n",
       "\n",
       "   regime[T.Monarchy]  regime[T.Parliamentary Dem]  \\\n",
       "1           -0.133938                     0.048077   \n",
       "2           -0.226233                     0.168783   \n",
       "3           -0.271183                     0.328483   \n",
       "4           -0.294900                     0.365604   \n",
       "5           -0.391103                     0.536185   \n",
       "\n",
       "   regime[T.Presidential Dem]  start_year  baseline  \n",
       "1                    0.127171    0.000116 -0.029280  \n",
       "2                    0.121862    0.000053  0.143039  \n",
       "3                    0.146234    0.000004  0.297672  \n",
       "4                    0.422617    0.000002  0.376311  \n",
       "5                    0.743913    0.000057  0.362049  "
      ]
     },
     "execution_count": 66,
     "metadata": {},
     "output_type": "execute_result"
    }
   ],
   "source": [
    "aaf.cumulative_hazards_.head()"
   ]
  },
  {
   "cell_type": "markdown",
   "metadata": {},
   "source": [
    "I can also plot to see how hazard compares among the different categories!"
   ]
  },
  {
   "cell_type": "code",
   "execution_count": 67,
   "metadata": {
    "collapsed": false
   },
   "outputs": [
    {
     "data": {
      "text/plain": [
       "<matplotlib.axes._subplots.AxesSubplot at 0x11490d668>"
      ]
     },
     "execution_count": 67,
     "metadata": {},
     "output_type": "execute_result"
    },
    {
     "data": {
      "image/png": "[encoded data removed]",
      "text/plain": [
       "<matplotlib.figure.Figure at 0x11490bef0>"
      ]
     },
     "metadata": {},
     "output_type": "display_data"
    }
   ],
   "source": [
    "aaf.plot( columns=[ 'regime[T.Presidential Dem]', 'baseline', 'un_continent_name[Europe]' ], ix=slice(1,15) )"
   ]
  },
  {
   "cell_type": "markdown",
   "metadata": {},
   "source": [
    "# Implementing CoxPlot"
   ]
  },
  {
   "cell_type": "markdown",
   "metadata": {},
   "source": [
    "This is great because in the end you have some sort of coefficient table =O\n",
    "\n",
    "Let's first import some data =D"
   ]
  },
  {
   "cell_type": "code",
   "execution_count": 75,
   "metadata": {
    "collapsed": false
   },
   "outputs": [
    {
     "data": {
      "text/html": [
       "<div>\n",
       "<table border=\"1\" class=\"dataframe\">\n",
       "  <thead>\n",
       "    <tr style=\"text-align: right;\">\n",
       "      <th></th>\n",
       "      <th>week</th>\n",
       "      <th>arrest</th>\n",
       "      <th>fin</th>\n",
       "      <th>age</th>\n",
       "      <th>race</th>\n",
       "      <th>wexp</th>\n",
       "      <th>mar</th>\n",
       "      <th>paro</th>\n",
       "      <th>prio</th>\n",
       "    </tr>\n",
       "  </thead>\n",
       "  <tbody>\n",
       "    <tr>\n",
       "      <th>0</th>\n",
       "      <td>20</td>\n",
       "      <td>1</td>\n",
       "      <td>0</td>\n",
       "      <td>27</td>\n",
       "      <td>1</td>\n",
       "      <td>0</td>\n",
       "      <td>0</td>\n",
       "      <td>1</td>\n",
       "      <td>3</td>\n",
       "    </tr>\n",
       "    <tr>\n",
       "      <th>1</th>\n",
       "      <td>17</td>\n",
       "      <td>1</td>\n",
       "      <td>0</td>\n",
       "      <td>18</td>\n",
       "      <td>1</td>\n",
       "      <td>0</td>\n",
       "      <td>0</td>\n",
       "      <td>1</td>\n",
       "      <td>8</td>\n",
       "    </tr>\n",
       "    <tr>\n",
       "      <th>2</th>\n",
       "      <td>25</td>\n",
       "      <td>1</td>\n",
       "      <td>0</td>\n",
       "      <td>19</td>\n",
       "      <td>0</td>\n",
       "      <td>1</td>\n",
       "      <td>0</td>\n",
       "      <td>1</td>\n",
       "      <td>13</td>\n",
       "    </tr>\n",
       "    <tr>\n",
       "      <th>3</th>\n",
       "      <td>52</td>\n",
       "      <td>0</td>\n",
       "      <td>1</td>\n",
       "      <td>23</td>\n",
       "      <td>1</td>\n",
       "      <td>1</td>\n",
       "      <td>1</td>\n",
       "      <td>1</td>\n",
       "      <td>1</td>\n",
       "    </tr>\n",
       "  </tbody>\n",
       "</table>\n",
       "</div>"
      ],
      "text/plain": [
       "   week  arrest  fin  age  race  wexp  mar  paro  prio\n",
       "0    20       1    0   27     1     0    0     1     3\n",
       "1    17       1    0   18     1     0    0     1     8\n",
       "2    25       1    0   19     0     1    0     1    13\n",
       "3    52       0    1   23     1     1    1     1     1"
      ]
     },
     "execution_count": 75,
     "metadata": {},
     "output_type": "execute_result"
    }
   ],
   "source": [
    "from lifelines.datasets import load_rossi\n",
    "from lifelines import CoxPHFitter\n",
    "\n",
    "rossi_dataset = load_rossi()\n",
    "rossi_dataset.head(4)"
   ]
  },
  {
   "cell_type": "markdown",
   "metadata": {},
   "source": [
    "Now, step 2, let's do the regression!"
   ]
  },
  {
   "cell_type": "code",
   "execution_count": 78,
   "metadata": {
    "collapsed": false
   },
   "outputs": [
    {
     "name": "stdout",
     "output_type": "stream",
     "text": [
      "n=432, number of events=114\n",
      "\n",
      "           coef  exp(coef)  se(coef)          z         p  lower 0.95  upper 0.95    \n",
      "fin  -1.899e-01  8.270e-01 9.580e-02 -1.983e+00 4.742e-02  -3.777e-01  -2.124e-03   *\n",
      "age  -3.511e-01  7.039e-01 1.345e-01 -2.611e+00 9.029e-03  -6.148e-01  -8.749e-02  **\n",
      "race  1.031e-01  1.109e+00 1.012e-01  1.019e+00 3.081e-01  -9.522e-02   3.014e-01    \n",
      "wexp -7.421e-02  9.285e-01 1.051e-01 -7.058e-01 4.803e-01  -2.803e-01   1.319e-01    \n",
      "mar  -1.425e-01  8.672e-01 1.254e-01 -1.136e+00 2.561e-01  -3.883e-01   1.034e-01    \n",
      "paro -4.128e-02  9.596e-01 9.522e-02 -4.336e-01 6.646e-01  -2.280e-01   1.454e-01    \n",
      "prio  2.650e-01  1.303e+00 8.296e-02  3.194e+00 1.403e-03   1.023e-01   4.276e-01  **\n",
      "---\n",
      "Signif. codes:  0 '***' 0.001 '**' 0.01 '*' 0.05 '.' 0.1 ' ' 1 \n",
      "\n",
      "Concordance = 0.640\n"
     ]
    }
   ],
   "source": [
    "cf = CoxPHFitter()\n",
    "cf.fit(rossi_dataset, 'week', event_col='arrest')\n",
    "cf.print_summary()"
   ]
  },
  {
   "cell_type": "code",
   "execution_count": 79,
   "metadata": {
    "collapsed": false
   },
   "outputs": [
    {
     "data": {
      "text/html": [
       "<div>\n",
       "<table border=\"1\" class=\"dataframe\">\n",
       "  <thead>\n",
       "    <tr style=\"text-align: right;\">\n",
       "      <th></th>\n",
       "      <th>fin</th>\n",
       "      <th>age</th>\n",
       "      <th>race</th>\n",
       "      <th>wexp</th>\n",
       "      <th>mar</th>\n",
       "      <th>paro</th>\n",
       "      <th>prio</th>\n",
       "    </tr>\n",
       "  </thead>\n",
       "  <tbody>\n",
       "    <tr>\n",
       "      <th>coef</th>\n",
       "      <td>-0.189931</td>\n",
       "      <td>-0.351138</td>\n",
       "      <td>0.103102</td>\n",
       "      <td>-0.074208</td>\n",
       "      <td>-0.142453</td>\n",
       "      <td>-0.041284</td>\n",
       "      <td>0.264982</td>\n",
       "    </tr>\n",
       "  </tbody>\n",
       "</table>\n",
       "</div>"
      ],
      "text/plain": [
       "           fin       age      race      wexp       mar      paro      prio\n",
       "coef -0.189931 -0.351138  0.103102 -0.074208 -0.142453 -0.041284  0.264982"
      ]
     },
     "execution_count": 79,
     "metadata": {},
     "output_type": "execute_result"
    }
   ],
   "source": [
    "cf.hazards_ #this way we can access the coefficients"
   ]
  },
  {
   "cell_type": "code",
   "execution_count": 80,
   "metadata": {
    "collapsed": false
   },
   "outputs": [
    {
     "data": {
      "text/html": [
       "<div>\n",
       "<table border=\"1\" class=\"dataframe\">\n",
       "  <thead>\n",
       "    <tr style=\"text-align: right;\">\n",
       "      <th></th>\n",
       "      <th>baseline hazard</th>\n",
       "    </tr>\n",
       "    <tr>\n",
       "      <th>event_at</th>\n",
       "      <th></th>\n",
       "    </tr>\n",
       "  </thead>\n",
       "  <tbody>\n",
       "    <tr>\n",
       "      <th>0.0</th>\n",
       "      <td>0.000000</td>\n",
       "    </tr>\n",
       "    <tr>\n",
       "      <th>1.0</th>\n",
       "      <td>0.000536</td>\n",
       "    </tr>\n",
       "    <tr>\n",
       "      <th>2.0</th>\n",
       "      <td>0.000538</td>\n",
       "    </tr>\n",
       "    <tr>\n",
       "      <th>3.0</th>\n",
       "      <td>0.000539</td>\n",
       "    </tr>\n",
       "    <tr>\n",
       "      <th>4.0</th>\n",
       "      <td>0.000542</td>\n",
       "    </tr>\n",
       "    <tr>\n",
       "      <th>5.0</th>\n",
       "      <td>0.000543</td>\n",
       "    </tr>\n",
       "    <tr>\n",
       "      <th>6.0</th>\n",
       "      <td>0.000546</td>\n",
       "    </tr>\n",
       "    <tr>\n",
       "      <th>7.0</th>\n",
       "      <td>0.000549</td>\n",
       "    </tr>\n",
       "    <tr>\n",
       "      <th>8.0</th>\n",
       "      <td>0.002749</td>\n",
       "    </tr>\n",
       "    <tr>\n",
       "      <th>9.0</th>\n",
       "      <td>0.001114</td>\n",
       "    </tr>\n",
       "    <tr>\n",
       "      <th>10.0</th>\n",
       "      <td>0.000559</td>\n",
       "    </tr>\n",
       "    <tr>\n",
       "      <th>11.0</th>\n",
       "      <td>0.001125</td>\n",
       "    </tr>\n",
       "    <tr>\n",
       "      <th>12.0</th>\n",
       "      <td>0.001137</td>\n",
       "    </tr>\n",
       "    <tr>\n",
       "      <th>13.0</th>\n",
       "      <td>0.000570</td>\n",
       "    </tr>\n",
       "    <tr>\n",
       "      <th>14.0</th>\n",
       "      <td>0.001718</td>\n",
       "    </tr>\n",
       "    <tr>\n",
       "      <th>15.0</th>\n",
       "      <td>0.001156</td>\n",
       "    </tr>\n",
       "    <tr>\n",
       "      <th>16.0</th>\n",
       "      <td>0.001162</td>\n",
       "    </tr>\n",
       "    <tr>\n",
       "      <th>17.0</th>\n",
       "      <td>0.001753</td>\n",
       "    </tr>\n",
       "    <tr>\n",
       "      <th>18.0</th>\n",
       "      <td>0.001783</td>\n",
       "    </tr>\n",
       "    <tr>\n",
       "      <th>19.0</th>\n",
       "      <td>0.001202</td>\n",
       "    </tr>\n",
       "    <tr>\n",
       "      <th>20.0</th>\n",
       "      <td>0.003029</td>\n",
       "    </tr>\n",
       "    <tr>\n",
       "      <th>21.0</th>\n",
       "      <td>0.001226</td>\n",
       "    </tr>\n",
       "    <tr>\n",
       "      <th>22.0</th>\n",
       "      <td>0.000617</td>\n",
       "    </tr>\n",
       "    <tr>\n",
       "      <th>23.0</th>\n",
       "      <td>0.000619</td>\n",
       "    </tr>\n",
       "    <tr>\n",
       "      <th>24.0</th>\n",
       "      <td>0.002479</td>\n",
       "    </tr>\n",
       "    <tr>\n",
       "      <th>25.0</th>\n",
       "      <td>0.001879</td>\n",
       "    </tr>\n",
       "    <tr>\n",
       "      <th>26.0</th>\n",
       "      <td>0.001906</td>\n",
       "    </tr>\n",
       "    <tr>\n",
       "      <th>27.0</th>\n",
       "      <td>0.001281</td>\n",
       "    </tr>\n",
       "    <tr>\n",
       "      <th>28.0</th>\n",
       "      <td>0.001291</td>\n",
       "    </tr>\n",
       "    <tr>\n",
       "      <th>30.0</th>\n",
       "      <td>0.001305</td>\n",
       "    </tr>\n",
       "    <tr>\n",
       "      <th>31.0</th>\n",
       "      <td>0.000657</td>\n",
       "    </tr>\n",
       "    <tr>\n",
       "      <th>32.0</th>\n",
       "      <td>0.001320</td>\n",
       "    </tr>\n",
       "    <tr>\n",
       "      <th>33.0</th>\n",
       "      <td>0.001330</td>\n",
       "    </tr>\n",
       "    <tr>\n",
       "      <th>34.0</th>\n",
       "      <td>0.001347</td>\n",
       "    </tr>\n",
       "    <tr>\n",
       "      <th>35.0</th>\n",
       "      <td>0.002711</td>\n",
       "    </tr>\n",
       "    <tr>\n",
       "      <th>36.0</th>\n",
       "      <td>0.002054</td>\n",
       "    </tr>\n",
       "    <tr>\n",
       "      <th>37.0</th>\n",
       "      <td>0.002760</td>\n",
       "    </tr>\n",
       "    <tr>\n",
       "      <th>38.0</th>\n",
       "      <td>0.000698</td>\n",
       "    </tr>\n",
       "    <tr>\n",
       "      <th>39.0</th>\n",
       "      <td>0.001403</td>\n",
       "    </tr>\n",
       "    <tr>\n",
       "      <th>40.0</th>\n",
       "      <td>0.002813</td>\n",
       "    </tr>\n",
       "    <tr>\n",
       "      <th>42.0</th>\n",
       "      <td>0.001431</td>\n",
       "    </tr>\n",
       "    <tr>\n",
       "      <th>43.0</th>\n",
       "      <td>0.002868</td>\n",
       "    </tr>\n",
       "    <tr>\n",
       "      <th>44.0</th>\n",
       "      <td>0.001443</td>\n",
       "    </tr>\n",
       "    <tr>\n",
       "      <th>45.0</th>\n",
       "      <td>0.001455</td>\n",
       "    </tr>\n",
       "    <tr>\n",
       "      <th>46.0</th>\n",
       "      <td>0.002938</td>\n",
       "    </tr>\n",
       "    <tr>\n",
       "      <th>47.0</th>\n",
       "      <td>0.000741</td>\n",
       "    </tr>\n",
       "    <tr>\n",
       "      <th>48.0</th>\n",
       "      <td>0.001490</td>\n",
       "    </tr>\n",
       "    <tr>\n",
       "      <th>49.0</th>\n",
       "      <td>0.003756</td>\n",
       "    </tr>\n",
       "    <tr>\n",
       "      <th>50.0</th>\n",
       "      <td>0.002286</td>\n",
       "    </tr>\n",
       "    <tr>\n",
       "      <th>52.0</th>\n",
       "      <td>0.003082</td>\n",
       "    </tr>\n",
       "  </tbody>\n",
       "</table>\n",
       "</div>"
      ],
      "text/plain": [
       "          baseline hazard\n",
       "event_at                 \n",
       "0.0              0.000000\n",
       "1.0              0.000536\n",
       "2.0              0.000538\n",
       "3.0              0.000539\n",
       "4.0              0.000542\n",
       "5.0              0.000543\n",
       "6.0              0.000546\n",
       "7.0              0.000549\n",
       "8.0              0.002749\n",
       "9.0              0.001114\n",
       "10.0             0.000559\n",
       "11.0             0.001125\n",
       "12.0             0.001137\n",
       "13.0             0.000570\n",
       "14.0             0.001718\n",
       "15.0             0.001156\n",
       "16.0             0.001162\n",
       "17.0             0.001753\n",
       "18.0             0.001783\n",
       "19.0             0.001202\n",
       "20.0             0.003029\n",
       "21.0             0.001226\n",
       "22.0             0.000617\n",
       "23.0             0.000619\n",
       "24.0             0.002479\n",
       "25.0             0.001879\n",
       "26.0             0.001906\n",
       "27.0             0.001281\n",
       "28.0             0.001291\n",
       "30.0             0.001305\n",
       "31.0             0.000657\n",
       "32.0             0.001320\n",
       "33.0             0.001330\n",
       "34.0             0.001347\n",
       "35.0             0.002711\n",
       "36.0             0.002054\n",
       "37.0             0.002760\n",
       "38.0             0.000698\n",
       "39.0             0.001403\n",
       "40.0             0.002813\n",
       "42.0             0.001431\n",
       "43.0             0.002868\n",
       "44.0             0.001443\n",
       "45.0             0.001455\n",
       "46.0             0.002938\n",
       "47.0             0.000741\n",
       "48.0             0.001490\n",
       "49.0             0.003756\n",
       "50.0             0.002286\n",
       "52.0             0.003082"
      ]
     },
     "execution_count": 80,
     "metadata": {},
     "output_type": "execute_result"
    }
   ],
   "source": [
    "cf.baseline_hazard_ #this way we can access the baseline hazard"
   ]
  },
  {
   "cell_type": "code",
   "execution_count": 82,
   "metadata": {
    "collapsed": false
   },
   "outputs": [
    {
     "data": {
      "text/plain": [
       "<matplotlib.axes._subplots.AxesSubplot at 0x114a8def0>"
      ]
     },
     "execution_count": 82,
     "metadata": {},
     "output_type": "execute_result"
    },
    {
     "data": {
      "image/png": "[encoded data removed]",
      "text/plain": [
       "<matplotlib.figure.Figure at 0x114a8f630>"
      ]
     },
     "metadata": {},
     "output_type": "display_data"
    }
   ],
   "source": [
    "cf.baseline_hazard_.plot() #this way we can plot the baseline hazard"
   ]
  },
  {
   "cell_type": "markdown",
   "metadata": {},
   "source": [
    "cf.hazards_.plot()"
   ]
  },
  {
   "cell_type": "markdown",
   "metadata": {},
   "source": [
    "But how can we evaluate those models? Well, one way is the c-index, or concordance-index. This measure evaluates the ordering of predicted times: how correct is the ordering? It is infact a generalization of AUC, another common loss function, and is interpretted similarly:\n",
    "\n",
    "0.5 is the expected result from random predictions,\n",
    "1.0 is perfect concordance and,\n",
    "0.0 is perfect anti-concordance (multiply predictions with -1 to get 1.0)"
   ]
  },
  {
   "cell_type": "code",
   "execution_count": 86,
   "metadata": {
    "collapsed": false
   },
   "outputs": [
    {
     "name": "stdout",
     "output_type": "stream",
     "text": [
      "[0.52559726962457343, 0.57995110024449881, 0.58687258687258692]\n",
      "0.564140318914\n",
      "0.0274001427086\n"
     ]
    }
   ],
   "source": [
    "from lifelines import CoxPHFitter\n",
    "from lifelines.datasets import load_regression_dataset\n",
    "from lifelines.utils import k_fold_cross_validation\n",
    "\n",
    "regression_dataset = load_regression_dataset()\n",
    "cf = CoxPHFitter()\n",
    "scores = k_fold_cross_validation(cf, regression_dataset, 'T', event_col='E', k=3)\n",
    "print (scores)\n",
    "print (np.mean(scores))\n",
    "print (np.std(scores))"
   ]
  },
  {
   "cell_type": "code",
   "execution_count": null,
   "metadata": {
    "collapsed": true
   },
   "outputs": [],
   "source": []
  }
 ],
 "metadata": {
  "kernelspec": {
   "display_name": "Python 3",
   "language": "python",
   "name": "python3"
  },
  "language_info": {
   "codemirror_mode": {
    "name": "ipython",
    "version": 3
   },
   "file_extension": ".py",
   "mimetype": "text/x-python",
   "name": "python",
   "nbconvert_exporter": "python",
   "pygments_lexer": "ipython3",
   "version": "3.6.0"
  }
 },
 "nbformat": 4,
 "nbformat_minor": 2
}
